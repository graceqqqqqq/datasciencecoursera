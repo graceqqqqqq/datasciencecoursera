{
 "cells": [
  {
   "cell_type": "markdown",
   "metadata": {},
   "source": [
    "# Assignment 2\n",
    "\n",
    "Before working on this assignment please read these instructions fully. In the submission area, you will notice that you can click the link to **Preview the Grading** for each step of the assignment. This is the criteria that will be used for peer grading. Please familiarize yourself with the criteria before beginning the assignment.\n",
    "\n",
    "An NOAA dataset has been stored in the file `data/C2A2_data/BinnedCsvs_d400/fd403b3054061a52e5c4a08dadc245bc6e1b0adabbf12a9eadba68e8.csv`. The data for this assignment comes from a subset of The National Centers for Environmental Information (NCEI) [Daily Global Historical Climatology Network](https://www1.ncdc.noaa.gov/pub/data/ghcn/daily/readme.txt) (GHCN-Daily). The GHCN-Daily is comprised of daily climate records from thousands of land surface stations across the globe.\n",
    "\n",
    "Each row in the assignment datafile corresponds to a single observation.\n",
    "\n",
    "The following variables are provided to you:\n",
    "\n",
    "* **id** : station identification code\n",
    "* **date** : date in YYYY-MM-DD format (e.g. 2012-01-24 = January 24, 2012)\n",
    "* **element** : indicator of element type\n",
    "    * TMAX : Maximum temperature (tenths of degrees C)\n",
    "    * TMIN : Minimum temperature (tenths of degrees C)\n",
    "* **value** : data value for element (tenths of degrees C)\n",
    "\n",
    "For this assignment, you must:\n",
    "\n",
    "1. Read the documentation and familiarize yourself with the dataset, then write some python code which returns a line graph of the record high and record low temperatures by day of the year over the period 2005-2014. The area between the record high and record low temperatures for each day should be shaded.\n",
    "2. Overlay a scatter of the 2015 data for any points (highs and lows) for which the ten year record (2005-2014) record high or record low was broken in 2015.\n",
    "3. Watch out for leap days (i.e. February 29th), it is reasonable to remove these points from the dataset for the purpose of this visualization.\n",
    "4. Make the visual nice! Leverage principles from the first module in this course when developing your solution. Consider issues such as legends, labels, and chart junk.\n",
    "\n",
    "The data you have been given is near **Palo Alto, California, United States**, and the stations the data comes from are shown on the map below."
   ]
  },
  {
   "cell_type": "code",
   "execution_count": 1,
   "metadata": {
    "collapsed": false
   },
   "outputs": [
    {
     "data": {
      "text/html": [
       "<iframe src=\"data:text/html;base64,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\" width=\"100%\" height=\"480\"></iframe>"
      ],
      "text/plain": [
       "<IPython.core.display.HTML object>"
      ]
     },
     "execution_count": 1,
     "metadata": {},
     "output_type": "execute_result"
    }
   ],
   "source": [
    "import matplotlib.pyplot as plt\n",
    "import mplleaflet\n",
    "import pandas as pd\n",
    "\n",
    "def leaflet_plot_stations(binsize, hashid):\n",
    "\n",
    "    df = pd.read_csv('data/C2A2_data/BinSize_d{}.csv'.format(binsize))\n",
    "\n",
    "    station_locations_by_hash = df[df['hash'] == hashid]\n",
    "\n",
    "    lons = station_locations_by_hash['LONGITUDE'].tolist()\n",
    "    lats = station_locations_by_hash['LATITUDE'].tolist()\n",
    "\n",
    "    plt.figure(figsize=(8,8))\n",
    "\n",
    "    plt.scatter(lons, lats, c='r', alpha=0.7, s=200)\n",
    "\n",
    "    return mplleaflet.display()\n",
    "\n",
    "leaflet_plot_stations(400,'fd403b3054061a52e5c4a08dadc245bc6e1b0adabbf12a9eadba68e8')"
   ]
  },
  {
   "cell_type": "code",
   "execution_count": 2,
   "metadata": {
    "collapsed": false
   },
   "outputs": [
    {
     "data": {
      "text/html": [
       "<div>\n",
       "<table border=\"1\" class=\"dataframe\">\n",
       "  <thead>\n",
       "    <tr style=\"text-align: right;\">\n",
       "      <th></th>\n",
       "      <th>index</th>\n",
       "      <th>ID</th>\n",
       "      <th>Date</th>\n",
       "      <th>Element</th>\n",
       "      <th>Data_Value</th>\n",
       "    </tr>\n",
       "  </thead>\n",
       "  <tbody>\n",
       "    <tr>\n",
       "      <th>0</th>\n",
       "      <td>45088</td>\n",
       "      <td>USC00049792</td>\n",
       "      <td>2005-01-01</td>\n",
       "      <td>TMIN</td>\n",
       "      <td>50</td>\n",
       "    </tr>\n",
       "    <tr>\n",
       "      <th>1</th>\n",
       "      <td>77938</td>\n",
       "      <td>USC00048273</td>\n",
       "      <td>2005-01-01</td>\n",
       "      <td>TMIN</td>\n",
       "      <td>22</td>\n",
       "    </tr>\n",
       "    <tr>\n",
       "      <th>2</th>\n",
       "      <td>80672</td>\n",
       "      <td>USW00023244</td>\n",
       "      <td>2005-01-01</td>\n",
       "      <td>TMIN</td>\n",
       "      <td>56</td>\n",
       "    </tr>\n",
       "    <tr>\n",
       "      <th>3</th>\n",
       "      <td>28071</td>\n",
       "      <td>USC00045123</td>\n",
       "      <td>2005-01-01</td>\n",
       "      <td>TMIN</td>\n",
       "      <td>44</td>\n",
       "    </tr>\n",
       "    <tr>\n",
       "      <th>4</th>\n",
       "      <td>50667</td>\n",
       "      <td>USC00046598</td>\n",
       "      <td>2005-01-01</td>\n",
       "      <td>TMIN</td>\n",
       "      <td>67</td>\n",
       "    </tr>\n",
       "  </tbody>\n",
       "</table>\n",
       "</div>"
      ],
      "text/plain": [
       "   index           ID        Date Element  Data_Value\n",
       "0  45088  USC00049792  2005-01-01    TMIN          50\n",
       "1  77938  USC00048273  2005-01-01    TMIN          22\n",
       "2  80672  USW00023244  2005-01-01    TMIN          56\n",
       "3  28071  USC00045123  2005-01-01    TMIN          44\n",
       "4  50667  USC00046598  2005-01-01    TMIN          67"
      ]
     },
     "execution_count": 2,
     "metadata": {},
     "output_type": "execute_result"
    }
   ],
   "source": [
    "df = pd.read_csv('data/C2A2_data/BinnedCsvs_d400/fd403b3054061a52e5c4a08dadc245bc6e1b0adabbf12a9eadba68e8.csv')\n",
    "df = df.sort_values(by='ID'and 'Date')\n",
    "df = df.reset_index()\n",
    "df.head()"
   ]
  },
  {
   "cell_type": "code",
   "execution_count": 3,
   "metadata": {
    "collapsed": true
   },
   "outputs": [],
   "source": [
    "# for i in range(len(df)):\n",
    "#     if i > 5:\n",
    "#         break\n",
    "#     print(df['Date'][i])\n",
    "#     tmp.append(df['Date'][i].split('-')[0])\n",
    "\n",
    "# for ind, row in df.iterrows():\n",
    "#     tmp.append(row['Date'].split('-')[0])"
   ]
  },
  {
   "cell_type": "code",
   "execution_count": 4,
   "metadata": {
    "collapsed": false
   },
   "outputs": [
    {
     "data": {
      "text/html": [
       "<div>\n",
       "<table border=\"1\" class=\"dataframe\">\n",
       "  <thead>\n",
       "    <tr style=\"text-align: right;\">\n",
       "      <th></th>\n",
       "      <th>index</th>\n",
       "      <th>ID</th>\n",
       "      <th>Date</th>\n",
       "      <th>Element</th>\n",
       "      <th>Data_Value</th>\n",
       "      <th>Year</th>\n",
       "      <th>Month_Date</th>\n",
       "    </tr>\n",
       "  </thead>\n",
       "  <tbody>\n",
       "    <tr>\n",
       "      <th>0</th>\n",
       "      <td>45088</td>\n",
       "      <td>USC00049792</td>\n",
       "      <td>2005-01-01</td>\n",
       "      <td>TMIN</td>\n",
       "      <td>50</td>\n",
       "      <td>2005</td>\n",
       "      <td>01-01</td>\n",
       "    </tr>\n",
       "    <tr>\n",
       "      <th>1</th>\n",
       "      <td>77938</td>\n",
       "      <td>USC00048273</td>\n",
       "      <td>2005-01-01</td>\n",
       "      <td>TMIN</td>\n",
       "      <td>22</td>\n",
       "      <td>2005</td>\n",
       "      <td>01-01</td>\n",
       "    </tr>\n",
       "    <tr>\n",
       "      <th>2</th>\n",
       "      <td>80672</td>\n",
       "      <td>USW00023244</td>\n",
       "      <td>2005-01-01</td>\n",
       "      <td>TMIN</td>\n",
       "      <td>56</td>\n",
       "      <td>2005</td>\n",
       "      <td>01-01</td>\n",
       "    </tr>\n",
       "    <tr>\n",
       "      <th>3</th>\n",
       "      <td>28071</td>\n",
       "      <td>USC00045123</td>\n",
       "      <td>2005-01-01</td>\n",
       "      <td>TMIN</td>\n",
       "      <td>44</td>\n",
       "      <td>2005</td>\n",
       "      <td>01-01</td>\n",
       "    </tr>\n",
       "    <tr>\n",
       "      <th>4</th>\n",
       "      <td>50667</td>\n",
       "      <td>USC00046598</td>\n",
       "      <td>2005-01-01</td>\n",
       "      <td>TMIN</td>\n",
       "      <td>67</td>\n",
       "      <td>2005</td>\n",
       "      <td>01-01</td>\n",
       "    </tr>\n",
       "  </tbody>\n",
       "</table>\n",
       "</div>"
      ],
      "text/plain": [
       "   index           ID        Date Element  Data_Value  Year Month_Date\n",
       "0  45088  USC00049792  2005-01-01    TMIN          50  2005      01-01\n",
       "1  77938  USC00048273  2005-01-01    TMIN          22  2005      01-01\n",
       "2  80672  USW00023244  2005-01-01    TMIN          56  2005      01-01\n",
       "3  28071  USC00045123  2005-01-01    TMIN          44  2005      01-01\n",
       "4  50667  USC00046598  2005-01-01    TMIN          67  2005      01-01"
      ]
     },
     "execution_count": 4,
     "metadata": {},
     "output_type": "execute_result"
    }
   ],
   "source": [
    "tmp=[]\n",
    "tmp2 = []\n",
    "dat = df['Date']\n",
    "tmp = list(map(lambda x: x.split('-')[0],dat))\n",
    "tmp2 = list(map(lambda x: x.split('-')[1:],dat))\n",
    "df['Year'] = tmp\n",
    "df['Month_Date'] = tmp2\n",
    "df['Month_Date']=list(map(lambda x: '-'.join(x), df['Month_Date']))\n",
    "df.head()\n"
   ]
  },
  {
   "cell_type": "code",
   "execution_count": 5,
   "metadata": {
    "collapsed": false
   },
   "outputs": [
    {
     "data": {
      "text/html": [
       "<div>\n",
       "<table border=\"1\" class=\"dataframe\">\n",
       "  <thead>\n",
       "    <tr style=\"text-align: right;\">\n",
       "      <th></th>\n",
       "      <th>index</th>\n",
       "      <th>ID</th>\n",
       "      <th>Date</th>\n",
       "      <th>Element</th>\n",
       "      <th>Data_Value</th>\n",
       "      <th>Year</th>\n",
       "      <th>Month_Date</th>\n",
       "    </tr>\n",
       "  </thead>\n",
       "  <tbody>\n",
       "    <tr>\n",
       "      <th>0</th>\n",
       "      <td>45088</td>\n",
       "      <td>USC00049792</td>\n",
       "      <td>2005-01-01</td>\n",
       "      <td>TMIN</td>\n",
       "      <td>50</td>\n",
       "      <td>2005</td>\n",
       "      <td>01-01</td>\n",
       "    </tr>\n",
       "    <tr>\n",
       "      <th>1</th>\n",
       "      <td>77938</td>\n",
       "      <td>USC00048273</td>\n",
       "      <td>2005-01-01</td>\n",
       "      <td>TMIN</td>\n",
       "      <td>22</td>\n",
       "      <td>2005</td>\n",
       "      <td>01-01</td>\n",
       "    </tr>\n",
       "    <tr>\n",
       "      <th>2</th>\n",
       "      <td>80672</td>\n",
       "      <td>USW00023244</td>\n",
       "      <td>2005-01-01</td>\n",
       "      <td>TMIN</td>\n",
       "      <td>56</td>\n",
       "      <td>2005</td>\n",
       "      <td>01-01</td>\n",
       "    </tr>\n",
       "    <tr>\n",
       "      <th>3</th>\n",
       "      <td>28071</td>\n",
       "      <td>USC00045123</td>\n",
       "      <td>2005-01-01</td>\n",
       "      <td>TMIN</td>\n",
       "      <td>44</td>\n",
       "      <td>2005</td>\n",
       "      <td>01-01</td>\n",
       "    </tr>\n",
       "    <tr>\n",
       "      <th>4</th>\n",
       "      <td>50667</td>\n",
       "      <td>USC00046598</td>\n",
       "      <td>2005-01-01</td>\n",
       "      <td>TMIN</td>\n",
       "      <td>67</td>\n",
       "      <td>2005</td>\n",
       "      <td>01-01</td>\n",
       "    </tr>\n",
       "  </tbody>\n",
       "</table>\n",
       "</div>"
      ],
      "text/plain": [
       "   index           ID        Date Element  Data_Value  Year Month_Date\n",
       "0  45088  USC00049792  2005-01-01    TMIN          50  2005      01-01\n",
       "1  77938  USC00048273  2005-01-01    TMIN          22  2005      01-01\n",
       "2  80672  USW00023244  2005-01-01    TMIN          56  2005      01-01\n",
       "3  28071  USC00045123  2005-01-01    TMIN          44  2005      01-01\n",
       "4  50667  USC00046598  2005-01-01    TMIN          67  2005      01-01"
      ]
     },
     "execution_count": 5,
     "metadata": {},
     "output_type": "execute_result"
    }
   ],
   "source": [
    "df_before2015 = df[df['Year']!= '2015']\n",
    "df_before2015.head()"
   ]
  },
  {
   "cell_type": "code",
   "execution_count": 6,
   "metadata": {
    "collapsed": false
   },
   "outputs": [
    {
     "data": {
      "text/html": [
       "<div>\n",
       "<table border=\"1\" class=\"dataframe\">\n",
       "  <thead>\n",
       "    <tr style=\"text-align: right;\">\n",
       "      <th></th>\n",
       "      <th>index</th>\n",
       "      <th>ID</th>\n",
       "      <th>Date</th>\n",
       "      <th>Element</th>\n",
       "      <th>Data_Value</th>\n",
       "      <th>Year</th>\n",
       "      <th>Month_Date</th>\n",
       "    </tr>\n",
       "  </thead>\n",
       "  <tbody>\n",
       "    <tr>\n",
       "      <th>131321</th>\n",
       "      <td>80000</td>\n",
       "      <td>USC00045123</td>\n",
       "      <td>2015-01-01</td>\n",
       "      <td>TMIN</td>\n",
       "      <td>-11</td>\n",
       "      <td>2015</td>\n",
       "      <td>01-01</td>\n",
       "    </tr>\n",
       "    <tr>\n",
       "      <th>131322</th>\n",
       "      <td>80123</td>\n",
       "      <td>USC00047339</td>\n",
       "      <td>2015-01-01</td>\n",
       "      <td>TMIN</td>\n",
       "      <td>0</td>\n",
       "      <td>2015</td>\n",
       "      <td>01-01</td>\n",
       "    </tr>\n",
       "    <tr>\n",
       "      <th>131323</th>\n",
       "      <td>80128</td>\n",
       "      <td>USC00047339</td>\n",
       "      <td>2015-01-01</td>\n",
       "      <td>TMAX</td>\n",
       "      <td>133</td>\n",
       "      <td>2015</td>\n",
       "      <td>01-01</td>\n",
       "    </tr>\n",
       "    <tr>\n",
       "      <th>131324</th>\n",
       "      <td>76161</td>\n",
       "      <td>USW00023272</td>\n",
       "      <td>2015-01-01</td>\n",
       "      <td>TMIN</td>\n",
       "      <td>50</td>\n",
       "      <td>2015</td>\n",
       "      <td>01-01</td>\n",
       "    </tr>\n",
       "    <tr>\n",
       "      <th>131325</th>\n",
       "      <td>80094</td>\n",
       "      <td>USC00046646</td>\n",
       "      <td>2015-01-01</td>\n",
       "      <td>TMAX</td>\n",
       "      <td>117</td>\n",
       "      <td>2015</td>\n",
       "      <td>01-01</td>\n",
       "    </tr>\n",
       "  </tbody>\n",
       "</table>\n",
       "</div>"
      ],
      "text/plain": [
       "        index           ID        Date Element  Data_Value  Year Month_Date\n",
       "131321  80000  USC00045123  2015-01-01    TMIN         -11  2015      01-01\n",
       "131322  80123  USC00047339  2015-01-01    TMIN           0  2015      01-01\n",
       "131323  80128  USC00047339  2015-01-01    TMAX         133  2015      01-01\n",
       "131324  76161  USW00023272  2015-01-01    TMIN          50  2015      01-01\n",
       "131325  80094  USC00046646  2015-01-01    TMAX         117  2015      01-01"
      ]
     },
     "execution_count": 6,
     "metadata": {},
     "output_type": "execute_result"
    }
   ],
   "source": [
    "df_2015 = df[df['Year']=='2015']\n",
    "df_2015.head()"
   ]
  },
  {
   "cell_type": "code",
   "execution_count": 9,
   "metadata": {
    "collapsed": false
   },
   "outputs": [
    {
     "data": {
      "text/html": [
       "<div>\n",
       "<table border=\"1\" class=\"dataframe\">\n",
       "  <thead>\n",
       "    <tr style=\"text-align: right;\">\n",
       "      <th></th>\n",
       "      <th></th>\n",
       "      <th>Data_Value</th>\n",
       "    </tr>\n",
       "    <tr>\n",
       "      <th>Month_Date</th>\n",
       "      <th>Element</th>\n",
       "      <th></th>\n",
       "    </tr>\n",
       "  </thead>\n",
       "  <tbody>\n",
       "    <tr>\n",
       "      <th>01-01</th>\n",
       "      <th>TMIN</th>\n",
       "      <td>-11</td>\n",
       "    </tr>\n",
       "    <tr>\n",
       "      <th>01-02</th>\n",
       "      <th>TMIN</th>\n",
       "      <td>-22</td>\n",
       "    </tr>\n",
       "    <tr>\n",
       "      <th>01-03</th>\n",
       "      <th>TMIN</th>\n",
       "      <td>-17</td>\n",
       "    </tr>\n",
       "    <tr>\n",
       "      <th>01-04</th>\n",
       "      <th>TMIN</th>\n",
       "      <td>-39</td>\n",
       "    </tr>\n",
       "    <tr>\n",
       "      <th>01-05</th>\n",
       "      <th>TMIN</th>\n",
       "      <td>-17</td>\n",
       "    </tr>\n",
       "  </tbody>\n",
       "</table>\n",
       "</div>"
      ],
      "text/plain": [
       "                    Data_Value\n",
       "Month_Date Element            \n",
       "01-01      TMIN            -11\n",
       "01-02      TMIN            -22\n",
       "01-03      TMIN            -17\n",
       "01-04      TMIN            -39\n",
       "01-05      TMIN            -17"
      ]
     },
     "execution_count": 9,
     "metadata": {},
     "output_type": "execute_result"
    }
   ],
   "source": [
    "sub_before2015 = df_before2015[['Element','Month_Date','Data_Value']]\n",
    "sub_before2015_min = sub_before2015.loc[sub_before2015['Element']== 'TMIN']\n",
    "Min_before = sub_before2015_min.groupby(['Month_Date','Element']).min()\n",
    "Min_before = Min_before.drop('02-29')\n",
    "Min_before.head()"
   ]
  },
  {
   "cell_type": "code",
   "execution_count": 10,
   "metadata": {
    "collapsed": false
   },
   "outputs": [],
   "source": [
    "Min_before = Min_before.reset_index()\n",
    "Min_before = Min_before.set_index(['Month_Date'])\n",
    "Min_before= Min_before.drop('Element',1)\n"
   ]
  },
  {
   "cell_type": "code",
   "execution_count": 11,
   "metadata": {
    "collapsed": false
   },
   "outputs": [
    {
     "data": {
      "text/html": [
       "<div>\n",
       "<table border=\"1\" class=\"dataframe\">\n",
       "  <thead>\n",
       "    <tr style=\"text-align: right;\">\n",
       "      <th></th>\n",
       "      <th>Data_Value</th>\n",
       "    </tr>\n",
       "    <tr>\n",
       "      <th>Month_Date</th>\n",
       "      <th></th>\n",
       "    </tr>\n",
       "  </thead>\n",
       "  <tbody>\n",
       "    <tr>\n",
       "      <th>01-01</th>\n",
       "      <td>-11</td>\n",
       "    </tr>\n",
       "    <tr>\n",
       "      <th>01-02</th>\n",
       "      <td>-22</td>\n",
       "    </tr>\n",
       "    <tr>\n",
       "      <th>01-03</th>\n",
       "      <td>-17</td>\n",
       "    </tr>\n",
       "    <tr>\n",
       "      <th>01-04</th>\n",
       "      <td>-39</td>\n",
       "    </tr>\n",
       "    <tr>\n",
       "      <th>01-05</th>\n",
       "      <td>-17</td>\n",
       "    </tr>\n",
       "  </tbody>\n",
       "</table>\n",
       "</div>"
      ],
      "text/plain": [
       "            Data_Value\n",
       "Month_Date            \n",
       "01-01              -11\n",
       "01-02              -22\n",
       "01-03              -17\n",
       "01-04              -39\n",
       "01-05              -17"
      ]
     },
     "execution_count": 11,
     "metadata": {},
     "output_type": "execute_result"
    }
   ],
   "source": [
    "Min_before.head()"
   ]
  },
  {
   "cell_type": "code",
   "execution_count": 13,
   "metadata": {
    "collapsed": false
   },
   "outputs": [
    {
     "data": {
      "text/html": [
       "<div>\n",
       "<table border=\"1\" class=\"dataframe\">\n",
       "  <thead>\n",
       "    <tr style=\"text-align: right;\">\n",
       "      <th></th>\n",
       "      <th></th>\n",
       "      <th>Data_Value</th>\n",
       "    </tr>\n",
       "    <tr>\n",
       "      <th>Month_Date</th>\n",
       "      <th>Element</th>\n",
       "      <th></th>\n",
       "    </tr>\n",
       "  </thead>\n",
       "  <tbody>\n",
       "    <tr>\n",
       "      <th>01-01</th>\n",
       "      <th>TMAX</th>\n",
       "      <td>256</td>\n",
       "    </tr>\n",
       "    <tr>\n",
       "      <th>01-02</th>\n",
       "      <th>TMAX</th>\n",
       "      <td>228</td>\n",
       "    </tr>\n",
       "    <tr>\n",
       "      <th>01-03</th>\n",
       "      <th>TMAX</th>\n",
       "      <td>217</td>\n",
       "    </tr>\n",
       "    <tr>\n",
       "      <th>01-04</th>\n",
       "      <th>TMAX</th>\n",
       "      <td>239</td>\n",
       "    </tr>\n",
       "    <tr>\n",
       "      <th>01-05</th>\n",
       "      <th>TMAX</th>\n",
       "      <td>217</td>\n",
       "    </tr>\n",
       "  </tbody>\n",
       "</table>\n",
       "</div>"
      ],
      "text/plain": [
       "                    Data_Value\n",
       "Month_Date Element            \n",
       "01-01      TMAX            256\n",
       "01-02      TMAX            228\n",
       "01-03      TMAX            217\n",
       "01-04      TMAX            239\n",
       "01-05      TMAX            217"
      ]
     },
     "execution_count": 13,
     "metadata": {},
     "output_type": "execute_result"
    }
   ],
   "source": [
    "sub_before2015_max = sub_before2015.loc[sub_before2015['Element']=='TMAX']\n",
    "Max_before = sub_before2015_max.groupby(['Month_Date','Element']).max()\n",
    "Max_before = Max_before.drop('02-29')\n",
    "Max_before.head()"
   ]
  },
  {
   "cell_type": "code",
   "execution_count": 14,
   "metadata": {
    "collapsed": false
   },
   "outputs": [
    {
     "data": {
      "text/html": [
       "<div>\n",
       "<table border=\"1\" class=\"dataframe\">\n",
       "  <thead>\n",
       "    <tr style=\"text-align: right;\">\n",
       "      <th></th>\n",
       "      <th>Data_Value</th>\n",
       "    </tr>\n",
       "    <tr>\n",
       "      <th>Month_Date</th>\n",
       "      <th></th>\n",
       "    </tr>\n",
       "  </thead>\n",
       "  <tbody>\n",
       "    <tr>\n",
       "      <th>01-01</th>\n",
       "      <td>256</td>\n",
       "    </tr>\n",
       "    <tr>\n",
       "      <th>01-02</th>\n",
       "      <td>228</td>\n",
       "    </tr>\n",
       "    <tr>\n",
       "      <th>01-03</th>\n",
       "      <td>217</td>\n",
       "    </tr>\n",
       "    <tr>\n",
       "      <th>01-04</th>\n",
       "      <td>239</td>\n",
       "    </tr>\n",
       "    <tr>\n",
       "      <th>01-05</th>\n",
       "      <td>217</td>\n",
       "    </tr>\n",
       "  </tbody>\n",
       "</table>\n",
       "</div>"
      ],
      "text/plain": [
       "            Data_Value\n",
       "Month_Date            \n",
       "01-01              256\n",
       "01-02              228\n",
       "01-03              217\n",
       "01-04              239\n",
       "01-05              217"
      ]
     },
     "execution_count": 14,
     "metadata": {},
     "output_type": "execute_result"
    }
   ],
   "source": [
    "Max_before = Max_before.reset_index()\n",
    "Max_before = Max_before.set_index(['Month_Date'])\n",
    "Max_before= Max_before.drop('Element',1)\n",
    "Max_before.head()"
   ]
  },
  {
   "cell_type": "code",
   "execution_count": 15,
   "metadata": {
    "collapsed": false
   },
   "outputs": [
    {
     "data": {
      "text/html": [
       "<div>\n",
       "<table border=\"1\" class=\"dataframe\">\n",
       "  <thead>\n",
       "    <tr style=\"text-align: right;\">\n",
       "      <th></th>\n",
       "      <th></th>\n",
       "      <th>Data_Value</th>\n",
       "    </tr>\n",
       "    <tr>\n",
       "      <th>Month_Date</th>\n",
       "      <th>Element</th>\n",
       "      <th></th>\n",
       "    </tr>\n",
       "  </thead>\n",
       "  <tbody>\n",
       "    <tr>\n",
       "      <th>01-01</th>\n",
       "      <th>TMIN</th>\n",
       "      <td>-11</td>\n",
       "    </tr>\n",
       "    <tr>\n",
       "      <th>01-02</th>\n",
       "      <th>TMIN</th>\n",
       "      <td>-11</td>\n",
       "    </tr>\n",
       "    <tr>\n",
       "      <th>01-03</th>\n",
       "      <th>TMIN</th>\n",
       "      <td>-22</td>\n",
       "    </tr>\n",
       "    <tr>\n",
       "      <th>01-04</th>\n",
       "      <th>TMIN</th>\n",
       "      <td>-11</td>\n",
       "    </tr>\n",
       "    <tr>\n",
       "      <th>01-05</th>\n",
       "      <th>TMIN</th>\n",
       "      <td>11</td>\n",
       "    </tr>\n",
       "  </tbody>\n",
       "</table>\n",
       "</div>"
      ],
      "text/plain": [
       "                    Data_Value\n",
       "Month_Date Element            \n",
       "01-01      TMIN            -11\n",
       "01-02      TMIN            -11\n",
       "01-03      TMIN            -22\n",
       "01-04      TMIN            -11\n",
       "01-05      TMIN             11"
      ]
     },
     "execution_count": 15,
     "metadata": {},
     "output_type": "execute_result"
    }
   ],
   "source": [
    "sub_2015 = df_2015[['Element','Month_Date','Data_Value']]\n",
    "sub_2015_min = sub_2015.loc[sub_2015['Element']== 'TMIN']\n",
    "Min_2015 = sub_2015_min.groupby(['Month_Date','Element']).min()\n",
    "Min_2015.head()"
   ]
  },
  {
   "cell_type": "code",
   "execution_count": 16,
   "metadata": {
    "collapsed": false
   },
   "outputs": [
    {
     "data": {
      "text/html": [
       "<div>\n",
       "<table border=\"1\" class=\"dataframe\">\n",
       "  <thead>\n",
       "    <tr style=\"text-align: right;\">\n",
       "      <th></th>\n",
       "      <th>Data_Value</th>\n",
       "    </tr>\n",
       "    <tr>\n",
       "      <th>Month_Date</th>\n",
       "      <th></th>\n",
       "    </tr>\n",
       "  </thead>\n",
       "  <tbody>\n",
       "    <tr>\n",
       "      <th>01-01</th>\n",
       "      <td>-11</td>\n",
       "    </tr>\n",
       "    <tr>\n",
       "      <th>01-02</th>\n",
       "      <td>-11</td>\n",
       "    </tr>\n",
       "    <tr>\n",
       "      <th>01-03</th>\n",
       "      <td>-22</td>\n",
       "    </tr>\n",
       "    <tr>\n",
       "      <th>01-04</th>\n",
       "      <td>-11</td>\n",
       "    </tr>\n",
       "    <tr>\n",
       "      <th>01-05</th>\n",
       "      <td>11</td>\n",
       "    </tr>\n",
       "  </tbody>\n",
       "</table>\n",
       "</div>"
      ],
      "text/plain": [
       "            Data_Value\n",
       "Month_Date            \n",
       "01-01              -11\n",
       "01-02              -11\n",
       "01-03              -22\n",
       "01-04              -11\n",
       "01-05               11"
      ]
     },
     "execution_count": 16,
     "metadata": {},
     "output_type": "execute_result"
    }
   ],
   "source": [
    "Min_2015 = Min_2015.reset_index()\n",
    "Min_2015 = Min_2015.set_index(['Month_Date'])\n",
    "Min_2015= Min_2015.drop('Element',1)\n",
    "Min_2015.head()"
   ]
  },
  {
   "cell_type": "code",
   "execution_count": 17,
   "metadata": {
    "collapsed": false
   },
   "outputs": [
    {
     "data": {
      "text/html": [
       "<div>\n",
       "<table border=\"1\" class=\"dataframe\">\n",
       "  <thead>\n",
       "    <tr style=\"text-align: right;\">\n",
       "      <th></th>\n",
       "      <th></th>\n",
       "      <th>Data_Value</th>\n",
       "    </tr>\n",
       "    <tr>\n",
       "      <th>Month_Date</th>\n",
       "      <th>Element</th>\n",
       "      <th></th>\n",
       "    </tr>\n",
       "  </thead>\n",
       "  <tbody>\n",
       "    <tr>\n",
       "      <th>01-01</th>\n",
       "      <th>TMAX</th>\n",
       "      <td>150</td>\n",
       "    </tr>\n",
       "    <tr>\n",
       "      <th>01-02</th>\n",
       "      <th>TMAX</th>\n",
       "      <td>139</td>\n",
       "    </tr>\n",
       "    <tr>\n",
       "      <th>01-03</th>\n",
       "      <th>TMAX</th>\n",
       "      <td>150</td>\n",
       "    </tr>\n",
       "    <tr>\n",
       "      <th>01-04</th>\n",
       "      <th>TMAX</th>\n",
       "      <td>167</td>\n",
       "    </tr>\n",
       "    <tr>\n",
       "      <th>01-05</th>\n",
       "      <th>TMAX</th>\n",
       "      <td>194</td>\n",
       "    </tr>\n",
       "  </tbody>\n",
       "</table>\n",
       "</div>"
      ],
      "text/plain": [
       "                    Data_Value\n",
       "Month_Date Element            \n",
       "01-01      TMAX            150\n",
       "01-02      TMAX            139\n",
       "01-03      TMAX            150\n",
       "01-04      TMAX            167\n",
       "01-05      TMAX            194"
      ]
     },
     "execution_count": 17,
     "metadata": {},
     "output_type": "execute_result"
    }
   ],
   "source": [
    "sub_2015_max = sub_2015.loc[sub_2015['Element']== 'TMAX']\n",
    "Max_2015 = sub_2015_max.groupby(['Month_Date','Element']).max()\n",
    "\n",
    "Max_2015.head()"
   ]
  },
  {
   "cell_type": "code",
   "execution_count": 18,
   "metadata": {
    "collapsed": false
   },
   "outputs": [
    {
     "data": {
      "text/html": [
       "<div>\n",
       "<table border=\"1\" class=\"dataframe\">\n",
       "  <thead>\n",
       "    <tr style=\"text-align: right;\">\n",
       "      <th></th>\n",
       "      <th>Data_Value</th>\n",
       "    </tr>\n",
       "    <tr>\n",
       "      <th>Month_Date</th>\n",
       "      <th></th>\n",
       "    </tr>\n",
       "  </thead>\n",
       "  <tbody>\n",
       "    <tr>\n",
       "      <th>01-01</th>\n",
       "      <td>150</td>\n",
       "    </tr>\n",
       "    <tr>\n",
       "      <th>01-02</th>\n",
       "      <td>139</td>\n",
       "    </tr>\n",
       "    <tr>\n",
       "      <th>01-03</th>\n",
       "      <td>150</td>\n",
       "    </tr>\n",
       "    <tr>\n",
       "      <th>01-04</th>\n",
       "      <td>167</td>\n",
       "    </tr>\n",
       "    <tr>\n",
       "      <th>01-05</th>\n",
       "      <td>194</td>\n",
       "    </tr>\n",
       "  </tbody>\n",
       "</table>\n",
       "</div>"
      ],
      "text/plain": [
       "            Data_Value\n",
       "Month_Date            \n",
       "01-01              150\n",
       "01-02              139\n",
       "01-03              150\n",
       "01-04              167\n",
       "01-05              194"
      ]
     },
     "execution_count": 18,
     "metadata": {},
     "output_type": "execute_result"
    }
   ],
   "source": [
    "Max_2015 = Max_2015.reset_index()\n",
    "Max_2015 = Max_2015.set_index(['Month_Date'])\n",
    "Max_2015= Max_2015.drop('Element',1)\n",
    "Max_2015.head()"
   ]
  },
  {
   "cell_type": "code",
   "execution_count": 19,
   "metadata": {
    "collapsed": false
   },
   "outputs": [],
   "source": [
    "import numpy as np\n",
    "broken_max = np.where(Max_2015['Data_Value']>Max_before['Data_Value'])[0]\n",
    "broken_min = np.where(Min_2015['Data_Value']<Min_before['Data_Value'])[0]"
   ]
  },
  {
   "cell_type": "code",
   "execution_count": 20,
   "metadata": {
    "collapsed": false
   },
   "outputs": [
    {
     "data": {
      "image/png": "[encoded data removed]",
      "text/plain": [
       "<matplotlib.figure.Figure at 0x7f8bb38d4e10>"
      ]
     },
     "metadata": {},
     "output_type": "display_data"
    }
   ],
   "source": [
    "plt.figure()\n",
    "plt.plot(Min_before.values, 'b', label = 'record low')\n",
    "plt.plot(Max_before.values, 'r', label = 'record high')\n",
    "plt.scatter(broken_min, Min_2015.iloc[broken_min], s = 10, c = 'g', label = 'broken low')\n",
    "plt.scatter(broken_max, Max_2015.iloc[broken_max], s = 10, c = 'm', label = 'broken high')\n",
    "plt.gca().axis([-5, 370, -250, 500])\n",
    "plt.xticks(range(0, len(Min_before), 20), Min_before.index[range(0, len(Min_before), 20)], rotation = '45')\n",
    "plt.xlabel('Day of the Year')\n",
    "plt.ylabel('Temperature (Tenths of Degrees C)')\n",
    "plt.title('Temperature Summary Plot near Palo Alto')\n",
    "plt.legend(loc = 4, frameon = False)\n",
    "plt.gca().fill_between(range(len(Min_before)), Min_before['Data_Value'], Max_before['Data_Value'], facecolor = 'yellow', alpha = 0.5)\n",
    "plt.gca().spines['top'].set_visible(False)\n",
    "plt.gca().spines['right'].set_visible(False)\n",
    "plt.show()\n"
   ]
  },
  {
   "cell_type": "code",
   "execution_count": null,
   "metadata": {
    "collapsed": true
   },
   "outputs": [],
   "source": []
  }
 ],
 "metadata": {
  "kernelspec": {
   "display_name": "Python 3",
   "language": "python",
   "name": "python3"
  },
  "language_info": {
   "codemirror_mode": {
    "name": "ipython",
    "version": 3
   },
   "file_extension": ".py",
   "mimetype": "text/x-python",
   "name": "python",
   "nbconvert_exporter": "python",
   "pygments_lexer": "ipython3",
   "version": "3.5.2"
  }
 },
 "nbformat": 4,
 "nbformat_minor": 1
}
